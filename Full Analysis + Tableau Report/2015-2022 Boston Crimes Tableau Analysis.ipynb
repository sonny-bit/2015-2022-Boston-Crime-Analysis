{
 "cells": [
  {
   "cell_type": "markdown",
   "id": "6f5d7109-a799-428c-ab40-f6251199bed1",
   "metadata": {},
   "source": [
    "I investigated Boston Crimes that occured from 2015 to 2022 using Tableau. Here are my findings."
   ]
  },
  {
   "cell_type": "markdown",
   "id": "ab022de2-9b65-429e-9143-f1a93f4ca8fa",
   "metadata": {},
   "source": [
    "**Crimes By District**\n",
    "![Crime By District](../Images/Crimes_By_District.jpg)\n",
    "\n",
    "From 2015-2022, the top 3 districts with the most crimes are:\n",
    "1. Roxbury\n",
    "2. Dorchester\n",
    "3. South End\n",
    "\n",
    "The 3 districts with the least crimes were:\n",
    "1. Charlestown\n",
    "2. East Boston\n",
    "3. West Roxbury\n",
    "\n",
    "These results are consistent for every year, although the order may vary."
   ]
  },
  {
   "cell_type": "markdown",
   "id": "8c65acb9-2213-4632-8cf7-5e12febb2ecd",
   "metadata": {},
   "source": [
    "**Crimes By Category**\n",
    "![Crime By Category](../Images/Crimes_By_Category.jpg)\n",
    "\n",
    "For all crimes from 2015-2022, the 3 largest count of crimes by category are:\n",
    "1. Property Crimes\n",
    "2. Vehicle Crimes\n",
    "3. Violent Crimes\n",
    "\n",
    "The 3 least amount of crimes by category are:\n",
    "1. Sexual Offenses\n",
    "2. Crimes Involving Minors\n",
    "3. Suicide or Sudden Death\n",
    "\n",
    "These results are consistent for every year, although the order may vary."
   ]
  },
  {
   "cell_type": "markdown",
   "id": "0e7e286f-18aa-4c29-a3a8-a0a90ce3fcdf",
   "metadata": {},
   "source": [
    "**Crimes By Year**\n",
    "![Crime By Year](../Images/Crimes_By_Year.jpg)\n",
    "\n",
    "The dataset for 2015 only contains crimes from June to December. We will filter out this year.\n",
    "\n",
    "2020 had the least amount of crimes, while 2017 had the most amount of crimes. Crimes continue to rise from 2016 to 2017. Crimes decrease from 2018 to 2020, followed by an increase from 2021 to 2022.\n",
    "\n",
    "Since the COVID pandemic started around 2020, this may have caused a decreased in crime activity due to mandates to stay at home. However, a deeper analysis is required to determine if the total amount of crimes correlate with the start of the pandemic."
   ]
  },
  {
   "cell_type": "markdown",
   "id": "5af37251-d5df-481c-ba44-93eb1c906ae9",
   "metadata": {},
   "source": [
    "**Crimes By Month**\n",
    "![Crime By Month](../Images/Crimes_By_Month.jpg)\n",
    "\n",
    "The top 3 months with the most crimes are:\n",
    "1. August\n",
    "2. July\n",
    "3. September\n",
    "\n",
    "The 3 months with the least amount of crimes are:\n",
    "1. February\n",
    "2. December\n",
    "3. April\n",
    "\n",
    "Throughout 2015 to 2022, the most noticable pattern is that crimes are most prevalent in the Summer, while lowest in the Winter."
   ]
  },
  {
   "cell_type": "markdown",
   "id": "012200e0-64fd-41e9-85e5-90ecda56df57",
   "metadata": {},
   "source": [
    "**Crimes By Day Of Week**\n",
    "![Crime By Day Of Week](../Images/Crimes_By_Day_Of_Week.jpg)\n",
    "\n",
    "The 3 weekdays with the most crimes are:\n",
    "1. Friday\n",
    "2. Wednesday\n",
    "3. Thursday\n",
    "\n",
    "The 3 weekdays with the least crimes are:\n",
    "1. Sunday\n",
    "2. Saturday\n",
    "3. Monday"
   ]
  },
  {
   "cell_type": "markdown",
   "id": "e55f9792-ab8b-4326-ba7d-6b5d735665eb",
   "metadata": {},
   "source": [
    "**Summary:**\n",
    "\n",
    "In terms of district, Roxbury had the largest amount of crimes, while Charlestown had the least. Property Crime contained the highest amount of crime count, while Sexual Offenses had the least amount of crimes. 2017 had the largest amount of crimes, whereas 2020 had the least amount of crimes. In terms of the seasons, Summer had the most crimes while Winter had the least crimes. Lastly, Friday is the weekday that had the most crimes. Sunday had the least crimes within the week."
   ]
  },
  {
   "cell_type": "markdown",
   "id": "dfee5c43-8170-485b-b438-a7aeb7bad1ae",
   "metadata": {},
   "source": [
    "**Limitations**\n",
    "\n",
    "Some limitations for this data is that some crimes may be unreported by the general public. Crime incident reports were sourced from the Boston Police Department (BPD), potentially leading to biased data. "
   ]
  },
  {
   "cell_type": "markdown",
   "id": "71352415-176b-4ea6-befa-f3cb909d5da3",
   "metadata": {},
   "source": [
    "**References**\n",
    "- \"CRIME INCIDENT REPORTS (AUGUST 2015 - TO DATE) (SOURCE: NEW SYSTEM).\" *Department of Innovation and Technology*. [Link](https://data.boston.gov/dataset/crime-incident-reports-august-2015-to-date-source-new-system)\n",
    "- \"Districts.\" *Boston Police Department*. [Link](https://police.boston.gov/index.php/districts/)\n",
    "- Zhao, Jane. \"DMC Guides Home.\" *Rice University*. [Link](https://wiki.rice.edu/confluence/display/DMCGUIDES/DMC+Guides+Home)"
   ]
  }
 ],
 "metadata": {
  "kernelspec": {
   "display_name": "Python 3 (ipykernel)",
   "language": "python",
   "name": "python3"
  },
  "language_info": {
   "codemirror_mode": {
    "name": "ipython",
    "version": 3
   },
   "file_extension": ".py",
   "mimetype": "text/x-python",
   "name": "python",
   "nbconvert_exporter": "python",
   "pygments_lexer": "ipython3",
   "version": "3.11.3"
  }
 },
 "nbformat": 4,
 "nbformat_minor": 5
}
